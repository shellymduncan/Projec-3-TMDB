{
 "cells": [
  {
   "cell_type": "markdown",
   "id": "c52914ab",
   "metadata": {},
   "source": [
    "# Shelly-Ann Duncan\n",
    "# 11/19/22\n",
    "# Project 3 - IMDB - Part 2 "
   ]
  },
  {
   "cell_type": "markdown",
   "id": "9fdcf794",
   "metadata": {},
   "source": [
    "# Import necessary libraries"
   ]
  },
  {
   "cell_type": "code",
   "execution_count": 2,
   "id": "2fba71c7",
   "metadata": {},
   "outputs": [],
   "source": [
    "# imports\n",
    "import pandas as pd\n",
    "import numpy as np\n",
    "\n",
    "import os, json, time\n",
    "import tmdbsimple as tmdb\n",
    "from tqdm.notebook import tqdm_notebook"
   ]
  },
  {
   "cell_type": "code",
   "execution_count": 6,
   "id": "ab10f2cf",
   "metadata": {},
   "outputs": [
    {
     "data": {
      "text/plain": [
       "dict_keys(['API Key'])"
      ]
     },
     "execution_count": 6,
     "metadata": {},
     "output_type": "execute_result"
    }
   ],
   "source": [
    "# load API credentials\n",
    "with open('/Users/shell/.secret/tmdb_api.json', 'r') as f:\n",
    "    login = json.load(f)\n",
    "login.keys()"
   ]
  },
  {
   "cell_type": "code",
   "execution_count": 7,
   "id": "c253ef2a",
   "metadata": {},
   "outputs": [],
   "source": [
    "# instantiate tmdb API variable\n",
    "tmdb = login['API Key']"
   ]
  },
  {
   "cell_type": "code",
   "execution_count": 9,
   "id": "e56ade64",
   "metadata": {},
   "outputs": [
    {
     "data": {
      "text/plain": [
       "['title_akas.csv.gz',\n",
       " 'title_akas_chunk_001.csv.gz',\n",
       " 'title_basics.csv.gz',\n",
       " 'title_ratings.csv.gz']"
      ]
     },
     "execution_count": 9,
     "metadata": {},
     "output_type": "execute_result"
    }
   ],
   "source": [
    "# specify folder for saving data\n",
    "FOLDER = 'Data/'\n",
    "os.makedirs(FOLDER, exist_ok = True)\n",
    "os.listdir(FOLDER)"
   ]
  },
  {
   "cell_type": "markdown",
   "id": "35369375",
   "metadata": {},
   "source": [
    "# Extract budget, revenue and certification from TMDB"
   ]
  },
  {
   "cell_type": "code",
   "execution_count": 11,
   "id": "b1a48660",
   "metadata": {},
   "outputs": [],
   "source": [
    "# define function to get movie with certification included\n",
    "\n",
    "def get_movie_with_rating(movie_id):\n",
    "    \"\"\"Adapted from source = https://github.com/celioa/tmdbsimple\"\"\"\n",
    "    # get the movie object for the current id\n",
    "    movie = tmdb.Movies(movie_id)\n",
    "    \n",
    "    # save the .info .releases dictionaries\n",
    "    info = movie.info()\n",
    "    \n",
    "    releases = movie.releases()\n",
    "    \n",
    "    # loop through coountries in releases\n",
    "    for c in releases['countries']:\n",
    "       \n",
    "        # if the country abbreviation==US\n",
    "        if c['iso_3166_1'] == 'US':\n",
    "            \n",
    "            # save a \"certification\" key in info with the certification \n",
    "            info['certification'] = c['certification']\n",
    "    \n",
    "    return info"
   ]
  },
  {
   "cell_type": "code",
   "execution_count": 13,
   "id": "041ceed6",
   "metadata": {},
   "outputs": [],
   "source": [
    "# define a function to load/write the new json files\n",
    "\n",
    "def write_json(new_data, filename): \n",
    "    \"\"\"Appends a list of records (new_data) to a json file (filename). \n",
    "    Adapted from: https://www.geeksforgeeks.org/append-to-json-file-using-python/\"\"\"  \n",
    "    \n",
    "    with open(filename,'r+') as file:\n",
    "        # First we load existing data into a dict.\n",
    "        file_data = json.load(file)\n",
    "        \n",
    "        # Choose extend or append\n",
    "        if (type(new_data) == list) & (type(file_data) == list):\n",
    "            file_data.extend(new_data)\n",
    "        else:\n",
    "             file_data.append(new_data)\n",
    "        \n",
    "        # Sets file's current position at offset.\n",
    "        file.seek(0)\n",
    "        \n",
    "        # convert back to json.\n",
    "        json.dump(file_data, file)"
   ]
  },
  {
   "cell_type": "code",
   "execution_count": null,
   "id": "ce657efb",
   "metadata": {},
   "outputs": [],
   "source": [
    "# check for requested info\n",
    "movie = tmdb.Movies(603)"
   ]
  },
  {
   "cell_type": "code",
   "execution_count": null,
   "id": "ee11831c",
   "metadata": {},
   "outputs": [],
   "source": [
    "nfo - movie.info()"
   ]
  },
  {
   "cell_type": "code",
   "execution_count": null,
   "id": "75c66ccd",
   "metadata": {},
   "outputs": [],
   "source": [
    "# print the budget info\n",
    "print(info['budget'])"
   ]
  },
  {
   "cell_type": "code",
   "execution_count": null,
   "id": "691fe884",
   "metadata": {},
   "outputs": [],
   "source": [
    "# print the revenue info\n",
    "print(info['revenue'])"
   ]
  },
  {
   "cell_type": "code",
   "execution_count": null,
   "id": "972e33d5",
   "metadata": {},
   "outputs": [],
   "source": [
    "# print the imdb_id info\n",
    "print(info['imdb_id'])"
   ]
  },
  {
   "cell_type": "code",
   "execution_count": null,
   "id": "2512f0c0",
   "metadata": {},
   "outputs": [],
   "source": [
    "test = get_movie_with_rating(\"tt0848228\", \"tt0332280\") \n",
    "\n",
    "test_ids = [\"tt0848228\",\"tt0332280\"]\n",
    "results = []\n",
    "for movie_id in test_ids:\n",
    "    \n",
    "    try:\n",
    "        movie_info = get_movie_with_rating(movie_id)\n",
    "        results.append(movie_info)\n",
    "        \n",
    "    except: \n",
    "        pass\n",
    "test\n",
    "pd.DataFrame(results)"
   ]
  },
  {
   "cell_type": "code",
   "execution_count": null,
   "id": "e678661c",
   "metadata": {},
   "outputs": [],
   "source": [
    "# check error list\n",
    "print(f\"- Number of errors: {len(errors)}\")\n",
    "errors"
   ]
  },
  {
   "cell_type": "code",
   "execution_count": null,
   "id": "457dbf49",
   "metadata": {},
   "outputs": [],
   "source": [
    "# movies that started in 2000 or 2001\n",
    "filter_years[200, 2001]"
   ]
  },
  {
   "cell_type": "code",
   "execution_count": null,
   "id": "9047affd",
   "metadata": {},
   "outputs": [],
   "source": [
    "# load basics dataset from part 1\n",
    "basics = pd.read_csv('Data/title_basics.csv.gz')\n",
    "basics.head()"
   ]
  },
  {
   "cell_type": "code",
   "execution_count": null,
   "id": "da4cd35e",
   "metadata": {},
   "outputs": [],
   "source": []
  }
 ],
 "metadata": {
  "kernelspec": {
   "display_name": "Python (dojo-env)",
   "language": "python",
   "name": "dojo-env"
  },
  "language_info": {
   "codemirror_mode": {
    "name": "ipython",
    "version": 3
   },
   "file_extension": ".py",
   "mimetype": "text/x-python",
   "name": "python",
   "nbconvert_exporter": "python",
   "pygments_lexer": "ipython3",
   "version": "3.8.13"
  },
  "toc": {
   "base_numbering": 1,
   "nav_menu": {},
   "number_sections": false,
   "sideBar": true,
   "skip_h1_title": false,
   "title_cell": "Table of Contents",
   "title_sidebar": "Contents",
   "toc_cell": false,
   "toc_position": {},
   "toc_section_display": true,
   "toc_window_display": true
  }
 },
 "nbformat": 4,
 "nbformat_minor": 5
}
