{
 "cells": [
  {
   "cell_type": "markdown",
   "id": "ef290850",
   "metadata": {},
   "source": [
    "# Shelly-Ann Duncan\n",
    "## 11/10/22\n",
    "## Project 3 - Part 1"
   ]
  },
  {
   "cell_type": "markdown",
   "id": "fc8c2101",
   "metadata": {},
   "source": [
    "# Import necessary libraries"
   ]
  },
  {
   "cell_type": "code",
   "execution_count": 1,
   "id": "51347ff2",
   "metadata": {},
   "outputs": [],
   "source": [
    "import pandas as pd\n",
    "import seaborn as sns\n",
    "import matplotlib.pyplot as plt"
   ]
  },
  {
   "cell_type": "markdown",
   "id": "0420d3df",
   "metadata": {},
   "source": [
    "# Load data"
   ]
  },
  {
   "cell_type": "code",
   "execution_count": 2,
   "id": "b4641ef8",
   "metadata": {},
   "outputs": [
    {
     "data": {
      "text/html": [
       "<div>\n",
       "<style scoped>\n",
       "    .dataframe tbody tr th:only-of-type {\n",
       "        vertical-align: middle;\n",
       "    }\n",
       "\n",
       "    .dataframe tbody tr th {\n",
       "        vertical-align: top;\n",
       "    }\n",
       "\n",
       "    .dataframe thead th {\n",
       "        text-align: right;\n",
       "    }\n",
       "</style>\n",
       "<table border=\"1\" class=\"dataframe\">\n",
       "  <thead>\n",
       "    <tr style=\"text-align: right;\">\n",
       "      <th></th>\n",
       "      <th>tconst</th>\n",
       "      <th>titleType</th>\n",
       "      <th>primaryTitle</th>\n",
       "      <th>originalTitle</th>\n",
       "      <th>isAdult</th>\n",
       "      <th>startYear</th>\n",
       "      <th>endYear</th>\n",
       "      <th>runtimeMinutes</th>\n",
       "      <th>genres</th>\n",
       "    </tr>\n",
       "  </thead>\n",
       "  <tbody>\n",
       "    <tr>\n",
       "      <th>0</th>\n",
       "      <td>tt0000001</td>\n",
       "      <td>short</td>\n",
       "      <td>Carmencita</td>\n",
       "      <td>Carmencita</td>\n",
       "      <td>0</td>\n",
       "      <td>1894</td>\n",
       "      <td>\\N</td>\n",
       "      <td>1</td>\n",
       "      <td>Documentary,Short</td>\n",
       "    </tr>\n",
       "    <tr>\n",
       "      <th>1</th>\n",
       "      <td>tt0000002</td>\n",
       "      <td>short</td>\n",
       "      <td>Le clown et ses chiens</td>\n",
       "      <td>Le clown et ses chiens</td>\n",
       "      <td>0</td>\n",
       "      <td>1892</td>\n",
       "      <td>\\N</td>\n",
       "      <td>5</td>\n",
       "      <td>Animation,Short</td>\n",
       "    </tr>\n",
       "    <tr>\n",
       "      <th>2</th>\n",
       "      <td>tt0000003</td>\n",
       "      <td>short</td>\n",
       "      <td>Pauvre Pierrot</td>\n",
       "      <td>Pauvre Pierrot</td>\n",
       "      <td>0</td>\n",
       "      <td>1892</td>\n",
       "      <td>\\N</td>\n",
       "      <td>4</td>\n",
       "      <td>Animation,Comedy,Romance</td>\n",
       "    </tr>\n",
       "    <tr>\n",
       "      <th>3</th>\n",
       "      <td>tt0000004</td>\n",
       "      <td>short</td>\n",
       "      <td>Un bon bock</td>\n",
       "      <td>Un bon bock</td>\n",
       "      <td>0</td>\n",
       "      <td>1892</td>\n",
       "      <td>\\N</td>\n",
       "      <td>12</td>\n",
       "      <td>Animation,Short</td>\n",
       "    </tr>\n",
       "    <tr>\n",
       "      <th>4</th>\n",
       "      <td>tt0000005</td>\n",
       "      <td>short</td>\n",
       "      <td>Blacksmith Scene</td>\n",
       "      <td>Blacksmith Scene</td>\n",
       "      <td>0</td>\n",
       "      <td>1893</td>\n",
       "      <td>\\N</td>\n",
       "      <td>1</td>\n",
       "      <td>Comedy,Short</td>\n",
       "    </tr>\n",
       "  </tbody>\n",
       "</table>\n",
       "</div>"
      ],
      "text/plain": [
       "      tconst titleType            primaryTitle           originalTitle  \\\n",
       "0  tt0000001     short              Carmencita              Carmencita   \n",
       "1  tt0000002     short  Le clown et ses chiens  Le clown et ses chiens   \n",
       "2  tt0000003     short          Pauvre Pierrot          Pauvre Pierrot   \n",
       "3  tt0000004     short             Un bon bock             Un bon bock   \n",
       "4  tt0000005     short        Blacksmith Scene        Blacksmith Scene   \n",
       "\n",
       "  isAdult startYear endYear runtimeMinutes                    genres  \n",
       "0       0      1894      \\N              1         Documentary,Short  \n",
       "1       0      1892      \\N              5           Animation,Short  \n",
       "2       0      1892      \\N              4  Animation,Comedy,Romance  \n",
       "3       0      1892      \\N             12           Animation,Short  \n",
       "4       0      1893      \\N              1              Comedy,Short  "
      ]
     },
     "execution_count": 2,
     "metadata": {},
     "output_type": "execute_result"
    }
   ],
   "source": [
    "basics_url = 'https://datasets.imdbws.com/title.basics.tsv.gz'\n",
    "basics = pd.read_csv(basics_url, sep = '\\t', low_memory = False)\n",
    "basics.head()"
   ]
  },
  {
   "cell_type": "markdown",
   "id": "f1e55b67",
   "metadata": {},
   "source": [
    "# Clean and explore data\n"
   ]
  },
  {
   "cell_type": "code",
   "execution_count": 3,
   "id": "1305a519",
   "metadata": {},
   "outputs": [],
   "source": [
    "# make a copy of the data\n",
    "basics_ml = basics.copy()"
   ]
  },
  {
   "cell_type": "code",
   "execution_count": 4,
   "id": "22483255",
   "metadata": {},
   "outputs": [
    {
     "name": "stdout",
     "output_type": "stream",
     "text": [
      "<class 'pandas.core.frame.DataFrame'>\n",
      "RangeIndex: 9365430 entries, 0 to 9365429\n",
      "Data columns (total 9 columns):\n",
      " #   Column          Dtype \n",
      "---  ------          ----- \n",
      " 0   tconst          object\n",
      " 1   titleType       object\n",
      " 2   primaryTitle    object\n",
      " 3   originalTitle   object\n",
      " 4   isAdult         object\n",
      " 5   startYear       object\n",
      " 6   endYear         object\n",
      " 7   runtimeMinutes  object\n",
      " 8   genres          object\n",
      "dtypes: object(9)\n",
      "memory usage: 643.1+ MB\n"
     ]
    }
   ],
   "source": [
    "# get the datatypes\n",
    "basics_ml.info()"
   ]
  },
  {
   "cell_type": "code",
   "execution_count": 5,
   "id": "51112bf1",
   "metadata": {},
   "outputs": [
    {
     "data": {
      "text/plain": [
       "tconst             0\n",
       "titleType          0\n",
       "primaryTitle      11\n",
       "originalTitle     11\n",
       "isAdult            0\n",
       "startYear          0\n",
       "endYear            0\n",
       "runtimeMinutes     0\n",
       "genres            10\n",
       "dtype: int64"
      ]
     },
     "execution_count": 5,
     "metadata": {},
     "output_type": "execute_result"
    }
   ],
   "source": [
    "# check for missing data\n",
    "basics_ml.isna().sum()"
   ]
  },
  {
   "cell_type": "code",
   "execution_count": 6,
   "id": "186a5adf",
   "metadata": {},
   "outputs": [
    {
     "data": {
      "text/plain": [
       "0"
      ]
     },
     "execution_count": 6,
     "metadata": {},
     "output_type": "execute_result"
    }
   ],
   "source": [
    "# check for duplicates \n",
    "basics_ml.duplicated().sum()"
   ]
  },
  {
   "cell_type": "code",
   "execution_count": 7,
   "id": "3e31d3d2",
   "metadata": {},
   "outputs": [],
   "source": [
    "# replace \\N with np.nan for missing data\n",
    "basics_ml.replace({'\\\\N': 'np.nan'}, inplace = True)"
   ]
  },
  {
   "cell_type": "code",
   "execution_count": 23,
   "id": "f563bdf0",
   "metadata": {},
   "outputs": [],
   "source": [
    "# eliminate movies that are null for runtimeMinutes and genres\n",
    "basics_ml.dropna(subset = ['runtimeMinutes', 'genres'], inplace = True)"
   ]
  },
  {
   "cell_type": "code",
   "execution_count": 25,
   "id": "977c4b70",
   "metadata": {},
   "outputs": [],
   "source": [
    "# eliminate movies that include \"Documentary\" in genres\n",
    "is_documentary = basics_ml['genres'].str.contains('Documentary', case = False)\n",
    "basics_ml = basics_ml[~is_documentary]"
   ]
  },
  {
   "cell_type": "code",
   "execution_count": 29,
   "id": "3401be13",
   "metadata": {},
   "outputs": [],
   "source": [
    "# keep only titleType==Movie\n",
    "is_movie = basics_ml['titleType'].str.contains('movie', case = False)\n",
    "basics_ml = basics_ml[is_movie]"
   ]
  },
  {
   "cell_type": "code",
   "execution_count": 54,
   "id": "3e1597f7",
   "metadata": {},
   "outputs": [],
   "source": [
    "# convert to numeric for slicing\n",
    "basics_ml['startYear'] = basics_ml['startYear'].astype(float).copy()"
   ]
  },
  {
   "cell_type": "code",
   "execution_count": 57,
   "id": "73427d68",
   "metadata": {},
   "outputs": [],
   "source": [
    "# keep startYear 2000-2022\n",
    "basics_ml = basics_ml[(basics_ml['startYear'] >= 2000) & \n",
    "                      (basics_ml['startYear']<2022)]"
   ]
  },
  {
   "cell_type": "code",
   "execution_count": 50,
   "id": "1bf2fcbb",
   "metadata": {},
   "outputs": [
    {
     "data": {
      "text/plain": [
       "Series([], Name: tconst, dtype: bool)"
      ]
     },
     "execution_count": 50,
     "metadata": {},
     "output_type": "execute_result"
    }
   ],
   "source": [
    "# keep only US movies\n",
    "keepers = basics_ml['tconst'].isin(akas_ml['titleId'])\n",
    "keepers"
   ]
  },
  {
   "cell_type": "code",
   "execution_count": 58,
   "id": "47fc5904",
   "metadata": {},
   "outputs": [],
   "source": [
    "# filter\n",
    "basics_ml = basics_ml[keepers]"
   ]
  },
  {
   "cell_type": "code",
   "execution_count": 64,
   "id": "16ec354c",
   "metadata": {},
   "outputs": [
    {
     "name": "stdout",
     "output_type": "stream",
     "text": [
      "<class 'pandas.core.frame.DataFrame'>\n",
      "Int64Index: 0 entries\n",
      "Data columns (total 9 columns):\n",
      " #   Column          Non-Null Count  Dtype  \n",
      "---  ------          --------------  -----  \n",
      " 0   tconst          0 non-null      object \n",
      " 1   titleType       0 non-null      object \n",
      " 2   primaryTitle    0 non-null      object \n",
      " 3   originalTitle   0 non-null      object \n",
      " 4   isAdult         0 non-null      object \n",
      " 5   startYear       0 non-null      float64\n",
      " 6   endYear         0 non-null      object \n",
      " 7   runtimeMinutes  0 non-null      object \n",
      " 8   genres          0 non-null      object \n",
      "dtypes: float64(1), object(8)\n",
      "memory usage: 0.0+ bytes\n"
     ]
    }
   ],
   "source": [
    "basics_ml.info()"
   ]
  },
  {
   "cell_type": "markdown",
   "id": "6a71a64f",
   "metadata": {},
   "source": [
    "# Load data 2"
   ]
  },
  {
   "cell_type": "code",
   "execution_count": 9,
   "id": "bc6f56e0",
   "metadata": {},
   "outputs": [
    {
     "data": {
      "text/html": [
       "<div>\n",
       "<style scoped>\n",
       "    .dataframe tbody tr th:only-of-type {\n",
       "        vertical-align: middle;\n",
       "    }\n",
       "\n",
       "    .dataframe tbody tr th {\n",
       "        vertical-align: top;\n",
       "    }\n",
       "\n",
       "    .dataframe thead th {\n",
       "        text-align: right;\n",
       "    }\n",
       "</style>\n",
       "<table border=\"1\" class=\"dataframe\">\n",
       "  <thead>\n",
       "    <tr style=\"text-align: right;\">\n",
       "      <th></th>\n",
       "      <th>tconst</th>\n",
       "      <th>averageRating</th>\n",
       "      <th>numVotes</th>\n",
       "    </tr>\n",
       "  </thead>\n",
       "  <tbody>\n",
       "    <tr>\n",
       "      <th>0</th>\n",
       "      <td>tt0000001</td>\n",
       "      <td>5.7</td>\n",
       "      <td>1922</td>\n",
       "    </tr>\n",
       "    <tr>\n",
       "      <th>1</th>\n",
       "      <td>tt0000002</td>\n",
       "      <td>5.8</td>\n",
       "      <td>259</td>\n",
       "    </tr>\n",
       "    <tr>\n",
       "      <th>2</th>\n",
       "      <td>tt0000003</td>\n",
       "      <td>6.5</td>\n",
       "      <td>1734</td>\n",
       "    </tr>\n",
       "    <tr>\n",
       "      <th>3</th>\n",
       "      <td>tt0000004</td>\n",
       "      <td>5.6</td>\n",
       "      <td>174</td>\n",
       "    </tr>\n",
       "    <tr>\n",
       "      <th>4</th>\n",
       "      <td>tt0000005</td>\n",
       "      <td>6.2</td>\n",
       "      <td>2546</td>\n",
       "    </tr>\n",
       "  </tbody>\n",
       "</table>\n",
       "</div>"
      ],
      "text/plain": [
       "      tconst  averageRating  numVotes\n",
       "0  tt0000001            5.7      1922\n",
       "1  tt0000002            5.8       259\n",
       "2  tt0000003            6.5      1734\n",
       "3  tt0000004            5.6       174\n",
       "4  tt0000005            6.2      2546"
      ]
     },
     "execution_count": 9,
     "metadata": {},
     "output_type": "execute_result"
    }
   ],
   "source": [
    "ratings_url = 'https://datasets.imdbws.com/title.ratings.tsv.gz'\n",
    "ratings = pd.read_csv(ratings_url, sep = '\\t', low_memory = False)\n",
    "ratings.head()"
   ]
  },
  {
   "cell_type": "markdown",
   "id": "ea9e92ca",
   "metadata": {},
   "source": [
    "# Clean and explore data"
   ]
  },
  {
   "cell_type": "code",
   "execution_count": 10,
   "id": "25ee1796",
   "metadata": {},
   "outputs": [],
   "source": [
    "# make a copy of the data\n",
    "ratings_ml = ratings.copy()"
   ]
  },
  {
   "cell_type": "code",
   "execution_count": 11,
   "id": "d0c8f7f7",
   "metadata": {},
   "outputs": [
    {
     "name": "stdout",
     "output_type": "stream",
     "text": [
      "<class 'pandas.core.frame.DataFrame'>\n",
      "RangeIndex: 1246688 entries, 0 to 1246687\n",
      "Data columns (total 3 columns):\n",
      " #   Column         Non-Null Count    Dtype  \n",
      "---  ------         --------------    -----  \n",
      " 0   tconst         1246688 non-null  object \n",
      " 1   averageRating  1246688 non-null  float64\n",
      " 2   numVotes       1246688 non-null  int64  \n",
      "dtypes: float64(1), int64(1), object(1)\n",
      "memory usage: 28.5+ MB\n"
     ]
    }
   ],
   "source": [
    "# get the datatypes\n",
    "ratings_ml.info()"
   ]
  },
  {
   "cell_type": "code",
   "execution_count": 12,
   "id": "ef50cfe0",
   "metadata": {},
   "outputs": [
    {
     "data": {
      "text/plain": [
       "tconst           0\n",
       "averageRating    0\n",
       "numVotes         0\n",
       "dtype: int64"
      ]
     },
     "execution_count": 12,
     "metadata": {},
     "output_type": "execute_result"
    }
   ],
   "source": [
    "# check for missing data\n",
    "ratings_ml.isna().sum()"
   ]
  },
  {
   "cell_type": "code",
   "execution_count": 13,
   "id": "de7d16e0",
   "metadata": {},
   "outputs": [
    {
     "data": {
      "text/plain": [
       "0"
      ]
     },
     "execution_count": 13,
     "metadata": {},
     "output_type": "execute_result"
    }
   ],
   "source": [
    "# check for duplicates\n",
    "ratings_ml.duplicated().sum()"
   ]
  },
  {
   "cell_type": "code",
   "execution_count": 47,
   "id": "bf4e9a12",
   "metadata": {},
   "outputs": [
    {
     "data": {
      "text/plain": [
       "Series([], Name: tconst, dtype: bool)"
      ]
     },
     "execution_count": 47,
     "metadata": {},
     "output_type": "execute_result"
    }
   ],
   "source": [
    "# Keep only US movies \n",
    "keep = basics_ml['tconst'].isin(akas_ml['titleId'])\n",
    "keep"
   ]
  },
  {
   "cell_type": "code",
   "execution_count": 59,
   "id": "0d3f2fa7",
   "metadata": {},
   "outputs": [],
   "source": [
    "# filter\n",
    "basics_ml = basics_ml[keep]"
   ]
  },
  {
   "cell_type": "code",
   "execution_count": 62,
   "id": "ff7ac5d5",
   "metadata": {},
   "outputs": [
    {
     "name": "stdout",
     "output_type": "stream",
     "text": [
      "<class 'pandas.core.frame.DataFrame'>\n",
      "RangeIndex: 1246688 entries, 0 to 1246687\n",
      "Data columns (total 3 columns):\n",
      " #   Column         Non-Null Count    Dtype  \n",
      "---  ------         --------------    -----  \n",
      " 0   tconst         1246688 non-null  object \n",
      " 1   averageRating  1246688 non-null  float64\n",
      " 2   numVotes       1246688 non-null  int64  \n",
      "dtypes: float64(1), int64(1), object(1)\n",
      "memory usage: 28.5+ MB\n"
     ]
    }
   ],
   "source": [
    "ratings_ml.info()"
   ]
  },
  {
   "cell_type": "markdown",
   "id": "463be9aa",
   "metadata": {},
   "source": [
    "# Load data 3"
   ]
  },
  {
   "cell_type": "code",
   "execution_count": 16,
   "id": "f5932f52",
   "metadata": {},
   "outputs": [
    {
     "data": {
      "text/plain": [
       "<pandas.io.parsers.readers.TextFileReader at 0x28f003fbfd0>"
      ]
     },
     "execution_count": 16,
     "metadata": {},
     "output_type": "execute_result"
    }
   ],
   "source": [
    "# laod data 3\n",
    "akas_url = 'https://datasets.imdbws.com/title.akas.tsv.gz'\n",
    "akas = pd.read_csv(akas_url, sep = '\\t', low_memory = False,\n",
    "                   chunksize = 100_000)\n",
    "akas"
   ]
  },
  {
   "cell_type": "code",
   "execution_count": 17,
   "id": "ae381b24",
   "metadata": {},
   "outputs": [
    {
     "data": {
      "text/plain": [
       "0"
      ]
     },
     "execution_count": 17,
     "metadata": {},
     "output_type": "execute_result"
    }
   ],
   "source": [
    "# the first row # of the next chunk is stored under ._currow\n",
    "akas._currow"
   ]
  },
  {
   "cell_type": "code",
   "execution_count": 18,
   "id": "96ca2d87",
   "metadata": {},
   "outputs": [
    {
     "data": {
      "text/html": [
       "<div>\n",
       "<style scoped>\n",
       "    .dataframe tbody tr th:only-of-type {\n",
       "        vertical-align: middle;\n",
       "    }\n",
       "\n",
       "    .dataframe tbody tr th {\n",
       "        vertical-align: top;\n",
       "    }\n",
       "\n",
       "    .dataframe thead th {\n",
       "        text-align: right;\n",
       "    }\n",
       "</style>\n",
       "<table border=\"1\" class=\"dataframe\">\n",
       "  <thead>\n",
       "    <tr style=\"text-align: right;\">\n",
       "      <th></th>\n",
       "      <th>titleId</th>\n",
       "      <th>ordering</th>\n",
       "      <th>title</th>\n",
       "      <th>region</th>\n",
       "      <th>language</th>\n",
       "      <th>types</th>\n",
       "      <th>attributes</th>\n",
       "      <th>isOriginalTitle</th>\n",
       "    </tr>\n",
       "  </thead>\n",
       "  <tbody>\n",
       "    <tr>\n",
       "      <th>0</th>\n",
       "      <td>tt0000001</td>\n",
       "      <td>1</td>\n",
       "      <td>Карменсіта</td>\n",
       "      <td>UA</td>\n",
       "      <td>\\N</td>\n",
       "      <td>imdbDisplay</td>\n",
       "      <td>\\N</td>\n",
       "      <td>0</td>\n",
       "    </tr>\n",
       "    <tr>\n",
       "      <th>1</th>\n",
       "      <td>tt0000001</td>\n",
       "      <td>2</td>\n",
       "      <td>Carmencita</td>\n",
       "      <td>DE</td>\n",
       "      <td>\\N</td>\n",
       "      <td>\\N</td>\n",
       "      <td>literal title</td>\n",
       "      <td>0</td>\n",
       "    </tr>\n",
       "    <tr>\n",
       "      <th>2</th>\n",
       "      <td>tt0000001</td>\n",
       "      <td>3</td>\n",
       "      <td>Carmencita - spanyol tánc</td>\n",
       "      <td>HU</td>\n",
       "      <td>\\N</td>\n",
       "      <td>imdbDisplay</td>\n",
       "      <td>\\N</td>\n",
       "      <td>0</td>\n",
       "    </tr>\n",
       "    <tr>\n",
       "      <th>3</th>\n",
       "      <td>tt0000001</td>\n",
       "      <td>4</td>\n",
       "      <td>Καρμενσίτα</td>\n",
       "      <td>GR</td>\n",
       "      <td>\\N</td>\n",
       "      <td>imdbDisplay</td>\n",
       "      <td>\\N</td>\n",
       "      <td>0</td>\n",
       "    </tr>\n",
       "    <tr>\n",
       "      <th>4</th>\n",
       "      <td>tt0000001</td>\n",
       "      <td>5</td>\n",
       "      <td>Карменсита</td>\n",
       "      <td>RU</td>\n",
       "      <td>\\N</td>\n",
       "      <td>imdbDisplay</td>\n",
       "      <td>\\N</td>\n",
       "      <td>0</td>\n",
       "    </tr>\n",
       "    <tr>\n",
       "      <th>...</th>\n",
       "      <td>...</td>\n",
       "      <td>...</td>\n",
       "      <td>...</td>\n",
       "      <td>...</td>\n",
       "      <td>...</td>\n",
       "      <td>...</td>\n",
       "      <td>...</td>\n",
       "      <td>...</td>\n",
       "    </tr>\n",
       "    <tr>\n",
       "      <th>99995</th>\n",
       "      <td>tt0022309</td>\n",
       "      <td>1</td>\n",
       "      <td>Audácia</td>\n",
       "      <td>BR</td>\n",
       "      <td>\\N</td>\n",
       "      <td>imdbDisplay</td>\n",
       "      <td>\\N</td>\n",
       "      <td>0</td>\n",
       "    </tr>\n",
       "    <tr>\n",
       "      <th>99996</th>\n",
       "      <td>tt0022309</td>\n",
       "      <td>2</td>\n",
       "      <td>Trumbull &amp; son</td>\n",
       "      <td>NO</td>\n",
       "      <td>\\N</td>\n",
       "      <td>imdbDisplay</td>\n",
       "      <td>\\N</td>\n",
       "      <td>0</td>\n",
       "    </tr>\n",
       "    <tr>\n",
       "      <th>99997</th>\n",
       "      <td>tt0022309</td>\n",
       "      <td>3</td>\n",
       "      <td>Audácia que Assombra</td>\n",
       "      <td>PT</td>\n",
       "      <td>\\N</td>\n",
       "      <td>imdbDisplay</td>\n",
       "      <td>\\N</td>\n",
       "      <td>0</td>\n",
       "    </tr>\n",
       "    <tr>\n",
       "      <th>99998</th>\n",
       "      <td>tt0022309</td>\n",
       "      <td>4</td>\n",
       "      <td>Rich Man's Folly</td>\n",
       "      <td>\\N</td>\n",
       "      <td>\\N</td>\n",
       "      <td>original</td>\n",
       "      <td>\\N</td>\n",
       "      <td>1</td>\n",
       "    </tr>\n",
       "    <tr>\n",
       "      <th>99999</th>\n",
       "      <td>tt0022309</td>\n",
       "      <td>5</td>\n",
       "      <td>鉄壁の男</td>\n",
       "      <td>JP</td>\n",
       "      <td>ja</td>\n",
       "      <td>imdbDisplay</td>\n",
       "      <td>\\N</td>\n",
       "      <td>0</td>\n",
       "    </tr>\n",
       "  </tbody>\n",
       "</table>\n",
       "<p>100000 rows × 8 columns</p>\n",
       "</div>"
      ],
      "text/plain": [
       "         titleId  ordering                      title region language  \\\n",
       "0      tt0000001         1                 Карменсіта     UA       \\N   \n",
       "1      tt0000001         2                 Carmencita     DE       \\N   \n",
       "2      tt0000001         3  Carmencita - spanyol tánc     HU       \\N   \n",
       "3      tt0000001         4                 Καρμενσίτα     GR       \\N   \n",
       "4      tt0000001         5                 Карменсита     RU       \\N   \n",
       "...          ...       ...                        ...    ...      ...   \n",
       "99995  tt0022309         1                    Audácia     BR       \\N   \n",
       "99996  tt0022309         2             Trumbull & son     NO       \\N   \n",
       "99997  tt0022309         3       Audácia que Assombra     PT       \\N   \n",
       "99998  tt0022309         4           Rich Man's Folly     \\N       \\N   \n",
       "99999  tt0022309         5                       鉄壁の男     JP       ja   \n",
       "\n",
       "             types     attributes isOriginalTitle  \n",
       "0      imdbDisplay             \\N               0  \n",
       "1               \\N  literal title               0  \n",
       "2      imdbDisplay             \\N               0  \n",
       "3      imdbDisplay             \\N               0  \n",
       "4      imdbDisplay             \\N               0  \n",
       "...            ...            ...             ...  \n",
       "99995  imdbDisplay             \\N               0  \n",
       "99996  imdbDisplay             \\N               0  \n",
       "99997  imdbDisplay             \\N               0  \n",
       "99998     original             \\N               1  \n",
       "99999  imdbDisplay             \\N               0  \n",
       "\n",
       "[100000 rows x 8 columns]"
      ]
     },
     "execution_count": 18,
     "metadata": {},
     "output_type": "execute_result"
    }
   ],
   "source": [
    "# use the .get_chunk() method to extract the first chunk of rows\n",
    "akas = akas.get_chunk()\n",
    "akas"
   ]
  },
  {
   "cell_type": "code",
   "execution_count": 19,
   "id": "0058fd41",
   "metadata": {},
   "outputs": [],
   "source": [
    "# make a copy of the data\n",
    "akas_ml = akas.copy()"
   ]
  },
  {
   "cell_type": "code",
   "execution_count": 20,
   "id": "f1ca0e1a",
   "metadata": {},
   "outputs": [
    {
     "name": "stdout",
     "output_type": "stream",
     "text": [
      "<class 'pandas.core.frame.DataFrame'>\n",
      "RangeIndex: 100000 entries, 0 to 99999\n",
      "Data columns (total 8 columns):\n",
      " #   Column           Non-Null Count   Dtype \n",
      "---  ------           --------------   ----- \n",
      " 0   titleId          100000 non-null  object\n",
      " 1   ordering         100000 non-null  int64 \n",
      " 2   title            100000 non-null  object\n",
      " 3   region           100000 non-null  object\n",
      " 4   language         100000 non-null  object\n",
      " 5   types            100000 non-null  object\n",
      " 6   attributes       100000 non-null  object\n",
      " 7   isOriginalTitle  100000 non-null  object\n",
      "dtypes: int64(1), object(7)\n",
      "memory usage: 6.1+ MB\n"
     ]
    }
   ],
   "source": [
    "# check the dataypes\n",
    "akas_ml.info()"
   ]
  },
  {
   "cell_type": "code",
   "execution_count": 21,
   "id": "ccf523d3",
   "metadata": {},
   "outputs": [
    {
     "data": {
      "text/plain": [
       "titleId            0\n",
       "ordering           0\n",
       "title              0\n",
       "region             0\n",
       "language           0\n",
       "types              0\n",
       "attributes         0\n",
       "isOriginalTitle    0\n",
       "dtype: int64"
      ]
     },
     "execution_count": 21,
     "metadata": {},
     "output_type": "execute_result"
    }
   ],
   "source": [
    "# check for missing data\n",
    "akas_ml.isna().sum()"
   ]
  },
  {
   "cell_type": "code",
   "execution_count": 22,
   "id": "209965f7",
   "metadata": {},
   "outputs": [
    {
     "data": {
      "text/plain": [
       "0"
      ]
     },
     "execution_count": 22,
     "metadata": {},
     "output_type": "execute_result"
    }
   ],
   "source": [
    "#check for duplicates\n",
    "akas_ml.duplicated().sum()"
   ]
  },
  {
   "cell_type": "code",
   "execution_count": 60,
   "id": "ca109339",
   "metadata": {},
   "outputs": [],
   "source": [
    "# replace \\N with np.nan for missing data\n",
    "akas_ml.replace({'\\\\N': 'np.nan'}, inplace = True)"
   ]
  },
  {
   "cell_type": "code",
   "execution_count": 65,
   "id": "1a878838",
   "metadata": {},
   "outputs": [
    {
     "name": "stdout",
     "output_type": "stream",
     "text": [
      "<class 'pandas.core.frame.DataFrame'>\n",
      "RangeIndex: 100000 entries, 0 to 99999\n",
      "Data columns (total 8 columns):\n",
      " #   Column           Non-Null Count   Dtype \n",
      "---  ------           --------------   ----- \n",
      " 0   titleId          100000 non-null  object\n",
      " 1   ordering         100000 non-null  int64 \n",
      " 2   title            100000 non-null  object\n",
      " 3   region           100000 non-null  object\n",
      " 4   language         100000 non-null  object\n",
      " 5   types            100000 non-null  object\n",
      " 6   attributes       100000 non-null  object\n",
      " 7   isOriginalTitle  100000 non-null  object\n",
      "dtypes: int64(1), object(7)\n",
      "memory usage: 6.1+ MB\n"
     ]
    }
   ],
   "source": [
    "akas_ml.info()"
   ]
  },
  {
   "cell_type": "markdown",
   "id": "9835f157",
   "metadata": {},
   "source": [
    "#  Save all dataframes to data folder"
   ]
  },
  {
   "cell_type": "code",
   "execution_count": 66,
   "id": "7e24e7fd",
   "metadata": {},
   "outputs": [],
   "source": [
    "# Save current dataframe to file.\n",
    "basics.to_csv(\"Data/title_basics.csv.gz\", compression = 'gzip', index = False)"
   ]
  },
  {
   "cell_type": "code",
   "execution_count": 67,
   "id": "85d8a0e5",
   "metadata": {},
   "outputs": [],
   "source": [
    "# Save current dataframe to file.\n",
    "ratings.to_csv(\"Data/title_ratings.csv.gz\", compression = 'gzip', \n",
    "               index = False)"
   ]
  },
  {
   "cell_type": "code",
   "execution_count": 68,
   "id": "062fd6b9",
   "metadata": {},
   "outputs": [],
   "source": [
    "akas.to_csv(\"Data/title_akas.csv.gz\", compression = 'gzip', index = False)"
   ]
  }
 ],
 "metadata": {
  "kernelspec": {
   "display_name": "Python (dojo-env)",
   "language": "python",
   "name": "dojo-env"
  },
  "language_info": {
   "codemirror_mode": {
    "name": "ipython",
    "version": 3
   },
   "file_extension": ".py",
   "mimetype": "text/x-python",
   "name": "python",
   "nbconvert_exporter": "python",
   "pygments_lexer": "ipython3",
   "version": "3.8.13"
  },
  "toc": {
   "base_numbering": 1,
   "nav_menu": {},
   "number_sections": false,
   "sideBar": true,
   "skip_h1_title": false,
   "title_cell": "Table of Contents",
   "title_sidebar": "Contents",
   "toc_cell": false,
   "toc_position": {},
   "toc_section_display": true,
   "toc_window_display": true
  }
 },
 "nbformat": 4,
 "nbformat_minor": 5
}
