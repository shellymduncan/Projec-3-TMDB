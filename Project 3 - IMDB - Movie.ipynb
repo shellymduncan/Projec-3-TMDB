{
 "cells": [
  {
   "cell_type": "markdown",
   "id": "ef290850",
   "metadata": {},
   "source": [
    "# Shelly-Ann Duncan\n",
    "## 11/10/22\n",
    "## Project 3 - Part 1"
   ]
  },
  {
   "cell_type": "markdown",
   "id": "fc8c2101",
   "metadata": {},
   "source": [
    "# Import necessary libraries"
   ]
  },
  {
   "cell_type": "code",
   "execution_count": 1,
   "id": "51347ff2",
   "metadata": {},
   "outputs": [],
   "source": [
    "import pandas as pd\n",
    "import seaborn as sns\n",
    "import matplotlib.pyplot as plt"
   ]
  },
  {
   "cell_type": "markdown",
   "id": "0420d3df",
   "metadata": {},
   "source": [
    "# Load data"
   ]
  },
  {
   "cell_type": "code",
   "execution_count": 2,
   "id": "b4641ef8",
   "metadata": {},
   "outputs": [
    {
     "data": {
      "text/html": [
       "<div>\n",
       "<style scoped>\n",
       "    .dataframe tbody tr th:only-of-type {\n",
       "        vertical-align: middle;\n",
       "    }\n",
       "\n",
       "    .dataframe tbody tr th {\n",
       "        vertical-align: top;\n",
       "    }\n",
       "\n",
       "    .dataframe thead th {\n",
       "        text-align: right;\n",
       "    }\n",
       "</style>\n",
       "<table border=\"1\" class=\"dataframe\">\n",
       "  <thead>\n",
       "    <tr style=\"text-align: right;\">\n",
       "      <th></th>\n",
       "      <th>tconst</th>\n",
       "      <th>titleType</th>\n",
       "      <th>primaryTitle</th>\n",
       "      <th>originalTitle</th>\n",
       "      <th>isAdult</th>\n",
       "      <th>startYear</th>\n",
       "      <th>endYear</th>\n",
       "      <th>runtimeMinutes</th>\n",
       "      <th>genres</th>\n",
       "    </tr>\n",
       "  </thead>\n",
       "  <tbody>\n",
       "    <tr>\n",
       "      <th>0</th>\n",
       "      <td>tt0000001</td>\n",
       "      <td>short</td>\n",
       "      <td>Carmencita</td>\n",
       "      <td>Carmencita</td>\n",
       "      <td>0</td>\n",
       "      <td>1894</td>\n",
       "      <td>\\N</td>\n",
       "      <td>1</td>\n",
       "      <td>Documentary,Short</td>\n",
       "    </tr>\n",
       "    <tr>\n",
       "      <th>1</th>\n",
       "      <td>tt0000002</td>\n",
       "      <td>short</td>\n",
       "      <td>Le clown et ses chiens</td>\n",
       "      <td>Le clown et ses chiens</td>\n",
       "      <td>0</td>\n",
       "      <td>1892</td>\n",
       "      <td>\\N</td>\n",
       "      <td>5</td>\n",
       "      <td>Animation,Short</td>\n",
       "    </tr>\n",
       "    <tr>\n",
       "      <th>2</th>\n",
       "      <td>tt0000003</td>\n",
       "      <td>short</td>\n",
       "      <td>Pauvre Pierrot</td>\n",
       "      <td>Pauvre Pierrot</td>\n",
       "      <td>0</td>\n",
       "      <td>1892</td>\n",
       "      <td>\\N</td>\n",
       "      <td>4</td>\n",
       "      <td>Animation,Comedy,Romance</td>\n",
       "    </tr>\n",
       "    <tr>\n",
       "      <th>3</th>\n",
       "      <td>tt0000004</td>\n",
       "      <td>short</td>\n",
       "      <td>Un bon bock</td>\n",
       "      <td>Un bon bock</td>\n",
       "      <td>0</td>\n",
       "      <td>1892</td>\n",
       "      <td>\\N</td>\n",
       "      <td>12</td>\n",
       "      <td>Animation,Short</td>\n",
       "    </tr>\n",
       "    <tr>\n",
       "      <th>4</th>\n",
       "      <td>tt0000005</td>\n",
       "      <td>short</td>\n",
       "      <td>Blacksmith Scene</td>\n",
       "      <td>Blacksmith Scene</td>\n",
       "      <td>0</td>\n",
       "      <td>1893</td>\n",
       "      <td>\\N</td>\n",
       "      <td>1</td>\n",
       "      <td>Comedy,Short</td>\n",
       "    </tr>\n",
       "  </tbody>\n",
       "</table>\n",
       "</div>"
      ],
      "text/plain": [
       "      tconst titleType            primaryTitle           originalTitle  \\\n",
       "0  tt0000001     short              Carmencita              Carmencita   \n",
       "1  tt0000002     short  Le clown et ses chiens  Le clown et ses chiens   \n",
       "2  tt0000003     short          Pauvre Pierrot          Pauvre Pierrot   \n",
       "3  tt0000004     short             Un bon bock             Un bon bock   \n",
       "4  tt0000005     short        Blacksmith Scene        Blacksmith Scene   \n",
       "\n",
       "  isAdult startYear endYear runtimeMinutes                    genres  \n",
       "0       0      1894      \\N              1         Documentary,Short  \n",
       "1       0      1892      \\N              5           Animation,Short  \n",
       "2       0      1892      \\N              4  Animation,Comedy,Romance  \n",
       "3       0      1892      \\N             12           Animation,Short  \n",
       "4       0      1893      \\N              1              Comedy,Short  "
      ]
     },
     "execution_count": 2,
     "metadata": {},
     "output_type": "execute_result"
    }
   ],
   "source": [
    "basics_url = 'https://datasets.imdbws.com/title.basics.tsv.gz'\n",
    "basics = pd.read_csv(basics_url, sep = '\\t', low_memory = False)\n",
    "basics.head()"
   ]
  },
  {
   "cell_type": "markdown",
   "id": "f1e55b67",
   "metadata": {},
   "source": [
    "# Clean and explore data\n"
   ]
  },
  {
   "cell_type": "code",
   "execution_count": 3,
   "id": "1305a519",
   "metadata": {},
   "outputs": [],
   "source": [
    "# make a copy of the data\n",
    "basics_ml = basics.copy()"
   ]
  },
  {
   "cell_type": "code",
   "execution_count": 4,
   "id": "22483255",
   "metadata": {},
   "outputs": [
    {
     "name": "stdout",
     "output_type": "stream",
     "text": [
      "<class 'pandas.core.frame.DataFrame'>\n",
      "RangeIndex: 9379384 entries, 0 to 9379383\n",
      "Data columns (total 9 columns):\n",
      " #   Column          Dtype \n",
      "---  ------          ----- \n",
      " 0   tconst          object\n",
      " 1   titleType       object\n",
      " 2   primaryTitle    object\n",
      " 3   originalTitle   object\n",
      " 4   isAdult         object\n",
      " 5   startYear       object\n",
      " 6   endYear         object\n",
      " 7   runtimeMinutes  object\n",
      " 8   genres          object\n",
      "dtypes: object(9)\n",
      "memory usage: 644.0+ MB\n"
     ]
    }
   ],
   "source": [
    "# get the datatypes\n",
    "basics_ml.info()"
   ]
  },
  {
   "cell_type": "code",
   "execution_count": 5,
   "id": "51112bf1",
   "metadata": {},
   "outputs": [
    {
     "data": {
      "text/plain": [
       "tconst             0\n",
       "titleType          0\n",
       "primaryTitle      11\n",
       "originalTitle     11\n",
       "isAdult            0\n",
       "startYear          0\n",
       "endYear            0\n",
       "runtimeMinutes     0\n",
       "genres            10\n",
       "dtype: int64"
      ]
     },
     "execution_count": 5,
     "metadata": {},
     "output_type": "execute_result"
    }
   ],
   "source": [
    "# check for missing data\n",
    "basics_ml.isna().sum()"
   ]
  },
  {
   "cell_type": "code",
   "execution_count": 6,
   "id": "186a5adf",
   "metadata": {},
   "outputs": [
    {
     "data": {
      "text/plain": [
       "0"
      ]
     },
     "execution_count": 6,
     "metadata": {},
     "output_type": "execute_result"
    }
   ],
   "source": [
    "# check for duplicates \n",
    "basics_ml.duplicated().sum()"
   ]
  },
  {
   "cell_type": "code",
   "execution_count": 7,
   "id": "3e31d3d2",
   "metadata": {},
   "outputs": [
    {
     "ename": "NameError",
     "evalue": "name 'np' is not defined",
     "output_type": "error",
     "traceback": [
      "\u001b[1;31m---------------------------------------------------------------------------\u001b[0m",
      "\u001b[1;31mNameError\u001b[0m                                 Traceback (most recent call last)",
      "Cell \u001b[1;32mIn [7], line 2\u001b[0m\n\u001b[0;32m      1\u001b[0m \u001b[38;5;66;03m# replace \\N with np.nan for missing data\u001b[39;00m\n\u001b[1;32m----> 2\u001b[0m basics_ml\u001b[38;5;241m.\u001b[39mreplace({\u001b[38;5;124m'\u001b[39m\u001b[38;5;130;01m\\\\\u001b[39;00m\u001b[38;5;124mN\u001b[39m\u001b[38;5;124m'\u001b[39m:\u001b[43mnp\u001b[49m\u001b[38;5;241m.\u001b[39mnan}, inplace \u001b[38;5;241m=\u001b[39m \u001b[38;5;28;01mTrue\u001b[39;00m)\n",
      "\u001b[1;31mNameError\u001b[0m: name 'np' is not defined"
     ]
    }
   ],
   "source": [
    "# replace \\N with np.nan for missing data\n",
    "basics_ml.replace({'\\\\N': 'np.nan'}, inplace = True)"
   ]
  },
  {
   "cell_type": "code",
   "execution_count": null,
   "id": "f563bdf0",
   "metadata": {},
   "outputs": [],
   "source": [
    "# eliminate movies that are null for runtimeMinutes and genres\n",
    "basics_ml.dropna(subset = ['runtimeMinutes', 'genres'], inplace = True)"
   ]
  },
  {
   "cell_type": "code",
   "execution_count": null,
   "id": "3401be13",
   "metadata": {},
   "outputs": [],
   "source": [
    "# keep only titleType==Movie\n",
    "is_movie = basics_ml['titleType'].str.contains('movie', case = False)\n",
    "basics_ml = basics_ml[is_movie]"
   ]
  },
  {
   "cell_type": "code",
   "execution_count": null,
   "id": "1b64bd51",
   "metadata": {},
   "outputs": [],
   "source": [
    "# insanity check\n",
    "basics_ml.head()"
   ]
  },
  {
   "cell_type": "code",
   "execution_count": null,
   "id": "977c4b70",
   "metadata": {},
   "outputs": [],
   "source": [
    "# eliminate movies that include \"Documentary\" in genres\n",
    "is_documentary = basics_ml['genres'].str.contains('Documentary', case = False)\n",
    "basics_ml = basics_ml[~is_documentary]"
   ]
  },
  {
   "cell_type": "code",
   "execution_count": null,
   "id": "3e1597f7",
   "metadata": {},
   "outputs": [],
   "source": [
    "# convert to numeric for slicing\n",
    "basics_ml['startYear'] = basics_ml['startYear'].astype(float).copy()"
   ]
  },
  {
   "cell_type": "code",
   "execution_count": null,
   "id": "73427d68",
   "metadata": {},
   "outputs": [],
   "source": [
    "# keep startYear 2000-2022\n",
    "basics_ml = basics_ml[(basics_ml['startYear'] >= 2000) & \n",
    "                      (basics_ml['startYear']<2022)]\n",
    "basics_ml"
   ]
  },
  {
   "cell_type": "code",
   "execution_count": null,
   "id": "1bf2fcbb",
   "metadata": {},
   "outputs": [],
   "source": [
    "# keep only US movies\n",
    "keepers = basics_ml['tconst'].isin(akas_ml['titleId'])\n",
    "keepers"
   ]
  },
  {
   "cell_type": "code",
   "execution_count": null,
   "id": "47fc5904",
   "metadata": {},
   "outputs": [],
   "source": [
    "# filter\n",
    "basics_ml = basics_ml[keepers]"
   ]
  },
  {
   "cell_type": "code",
   "execution_count": null,
   "id": "16ec354c",
   "metadata": {},
   "outputs": [],
   "source": [
    "basics_ml.info()"
   ]
  },
  {
   "cell_type": "markdown",
   "id": "6a71a64f",
   "metadata": {},
   "source": [
    "# Load data 2"
   ]
  },
  {
   "cell_type": "code",
   "execution_count": null,
   "id": "bc6f56e0",
   "metadata": {},
   "outputs": [],
   "source": [
    "ratings_url = 'https://datasets.imdbws.com/title.ratings.tsv.gz'\n",
    "ratings = pd.read_csv(ratings_url, sep = '\\t', low_memory = False)\n",
    "ratings.head()"
   ]
  },
  {
   "cell_type": "markdown",
   "id": "ea9e92ca",
   "metadata": {},
   "source": [
    "# Clean and explore data"
   ]
  },
  {
   "cell_type": "code",
   "execution_count": null,
   "id": "25ee1796",
   "metadata": {},
   "outputs": [],
   "source": [
    "# make a copy of the data\n",
    "ratings_ml = ratings.copy()"
   ]
  },
  {
   "cell_type": "code",
   "execution_count": null,
   "id": "d0c8f7f7",
   "metadata": {},
   "outputs": [],
   "source": [
    "# get the datatypes\n",
    "ratings_ml.info()"
   ]
  },
  {
   "cell_type": "code",
   "execution_count": null,
   "id": "ef50cfe0",
   "metadata": {},
   "outputs": [],
   "source": [
    "# check for missing data\n",
    "ratings_ml.isna().sum()"
   ]
  },
  {
   "cell_type": "code",
   "execution_count": null,
   "id": "de7d16e0",
   "metadata": {},
   "outputs": [],
   "source": [
    "# check for duplicates\n",
    "ratings_ml.duplicated().sum()"
   ]
  },
  {
   "cell_type": "code",
   "execution_count": null,
   "id": "bf4e9a12",
   "metadata": {},
   "outputs": [],
   "source": [
    "# Keep only US movies \n",
    "keep = basics_ml['tconst'].isin(akas_ml['titleId'])\n",
    "keep"
   ]
  },
  {
   "cell_type": "code",
   "execution_count": null,
   "id": "0d3f2fa7",
   "metadata": {},
   "outputs": [],
   "source": [
    "# filter\n",
    "basics_ml = basics_ml[keep]"
   ]
  },
  {
   "cell_type": "code",
   "execution_count": null,
   "id": "ff7ac5d5",
   "metadata": {},
   "outputs": [],
   "source": [
    "ratings_ml.info()"
   ]
  },
  {
   "cell_type": "markdown",
   "id": "463be9aa",
   "metadata": {},
   "source": [
    "# Load data 3"
   ]
  },
  {
   "cell_type": "code",
   "execution_count": null,
   "id": "f5932f52",
   "metadata": {},
   "outputs": [],
   "source": [
    "# laod data 3\n",
    "akas_url = 'https://datasets.imdbws.com/title.akas.tsv.gz'\n",
    "akas = pd.read_csv(akas_url, sep = '\\t', low_memory = False,\n",
    "                   chunksize = 100_000)\n",
    "akas"
   ]
  },
  {
   "cell_type": "code",
   "execution_count": null,
   "id": "ae381b24",
   "metadata": {},
   "outputs": [],
   "source": [
    "# the first row # of the next chunk is stored under ._currow\n",
    "akas._currow"
   ]
  },
  {
   "cell_type": "code",
   "execution_count": null,
   "id": "96ca2d87",
   "metadata": {},
   "outputs": [],
   "source": [
    "# use the .get_chunk() method to extract the first chunk of rows\n",
    "akas = akas.get_chunk()\n",
    "akas"
   ]
  },
  {
   "cell_type": "code",
   "execution_count": null,
   "id": "0058fd41",
   "metadata": {},
   "outputs": [],
   "source": [
    "# make a copy of the data\n",
    "akas_ml = akas.copy()"
   ]
  },
  {
   "cell_type": "code",
   "execution_count": null,
   "id": "f1ca0e1a",
   "metadata": {},
   "outputs": [],
   "source": [
    "# check the dataypes\n",
    "akas_ml.info()"
   ]
  },
  {
   "cell_type": "code",
   "execution_count": null,
   "id": "ccf523d3",
   "metadata": {},
   "outputs": [],
   "source": [
    "# check for missing data\n",
    "akas_ml.isna().sum()"
   ]
  },
  {
   "cell_type": "code",
   "execution_count": null,
   "id": "209965f7",
   "metadata": {},
   "outputs": [],
   "source": [
    "#check for duplicates\n",
    "akas_ml.duplicated().sum()"
   ]
  },
  {
   "cell_type": "code",
   "execution_count": null,
   "id": "ca109339",
   "metadata": {},
   "outputs": [],
   "source": [
    "# replace \\N with np.nan for missing data\n",
    "akas_ml.replace({'\\\\N': 'np.nan'}, inplace = True)"
   ]
  },
  {
   "cell_type": "code",
   "execution_count": null,
   "id": "1a878838",
   "metadata": {},
   "outputs": [],
   "source": [
    "akas_ml.info()"
   ]
  },
  {
   "cell_type": "markdown",
   "id": "9835f157",
   "metadata": {},
   "source": [
    "#  Save all dataframes to data folder"
   ]
  },
  {
   "cell_type": "code",
   "execution_count": null,
   "id": "7e24e7fd",
   "metadata": {},
   "outputs": [],
   "source": [
    "# Save current dataframe to file.\n",
    "basics.to_csv(\"Data/title_basics.csv.gz\", compression = 'gzip', index = False)"
   ]
  },
  {
   "cell_type": "code",
   "execution_count": null,
   "id": "85d8a0e5",
   "metadata": {},
   "outputs": [],
   "source": [
    "# Save current dataframe to file.\n",
    "ratings.to_csv(\"Data/title_ratings.csv.gz\", compression = 'gzip', \n",
    "               index = False)"
   ]
  },
  {
   "cell_type": "code",
   "execution_count": null,
   "id": "062fd6b9",
   "metadata": {},
   "outputs": [],
   "source": [
    "akas.to_csv(\"Data/title_akas.csv.gz\", compression = 'gzip', index = False)"
   ]
  }
 ],
 "metadata": {
  "kernelspec": {
   "display_name": "Python (dojo-env)",
   "language": "python",
   "name": "dojo-env"
  },
  "language_info": {
   "codemirror_mode": {
    "name": "ipython",
    "version": 3
   },
   "file_extension": ".py",
   "mimetype": "text/x-python",
   "name": "python",
   "nbconvert_exporter": "python",
   "pygments_lexer": "ipython3",
   "version": "3.8.13"
  },
  "toc": {
   "base_numbering": 1,
   "nav_menu": {},
   "number_sections": false,
   "sideBar": true,
   "skip_h1_title": false,
   "title_cell": "Table of Contents",
   "title_sidebar": "Contents",
   "toc_cell": false,
   "toc_position": {},
   "toc_section_display": true,
   "toc_window_display": true
  }
 },
 "nbformat": 4,
 "nbformat_minor": 5
}
